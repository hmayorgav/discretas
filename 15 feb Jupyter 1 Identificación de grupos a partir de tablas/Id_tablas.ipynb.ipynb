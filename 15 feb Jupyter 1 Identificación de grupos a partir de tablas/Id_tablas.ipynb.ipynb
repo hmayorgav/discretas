{
 "cells": [
  {
   "attachments": {},
   "cell_type": "markdown",
   "metadata": {},
   "source": [
    "# Algoritmo para un número como una suma de cuadrados # \n"
   ]
  },
  {
   "cell_type": "markdown",
   "metadata": {},
   "source": [
    "Un conjunto G bajo una operacion X se considera grupo cuando cumpla por los siguientes propiedades: \n",
    "- Clausura.\n",
    "- Existencia del elemento neutro.\n",
    "- Existencia de elementos inversos.\n",
    "- La operación es asociativa.\n",
    "estructura algebraica que tiene relevancia en el estudio de matematicas discretas, puesto que denotar su categorizacion como tal puede ayudar a generalizar y ayudar a los diferentes problemas en los cuales conocer sus propiedades optimice el funcionamiento de algun programa o proceso.\n",
    "los grupos ademas pueden ser categorizables como cuadros latinos, los cuales se identifican por tener elementos del conjunto con una aparicion en esa fila y columna de manera unica, aunque que por ser cuadro latino no significa que sea grupo necesariamente.\n"
   ]
  },
  {
   "cell_type": "markdown",
   "metadata": {},
   "source": [
    "## Objetivo ##"
   ]
  },
  {
   "cell_type": "markdown",
   "metadata": {},
   "source": [
    "La creacion de un algoritmo en el cual se identifique si dada estructura algebraica es un grupo y/o un cuadro latino a apartir de sus propiedades.\n"
   ]
  },
  {
   "cell_type": "markdown",
   "metadata": {},
   "source": [
    "## Planteamiento ##"
   ]
  },
  {
   "cell_type": "markdown",
   "metadata": {},
   "source": [
    "### consideraciones iniciales ###"
   ]
  },
  {
   "cell_type": "markdown",
   "metadata": {},
   "source": [
    "- Como se indico inicialmente grupo implica ser cuadro latino pero no inversamente, por tanto es importante revisar la condicion como grupo y posterior a ello como cuadro latino.\n",
    "- Dada la complejidad computacional para reconocer a traves de algunas propiedades si es grupo o no se plantea una jerarquia de procedimientos tal que se ahorre recursos si llega a no cumplir X propiedad y el orden logico para determinar el elemento correspodientes a el elemento neutro, siendo el orden el siguiente:<br>\n",
    "__Operación cerrada > Elemento neutro > Elementos inversos > Asociatividad__\n"
   ]
  },
  {
   "cell_type": "markdown",
   "metadata": {},
   "source": [
    "### Algoritmo ###"
   ]
  },
  {
   "cell_type": "markdown",
   "metadata": {},
   "source": [
    "Importamos la librerias de Numpy y itertools, necesarias para el manejo de tabla de Cayley y combinatoria"
   ]
  },
  {
   "cell_type": "code",
   "execution_count": 136,
   "metadata": {},
   "outputs": [],
   "source": [
    "import numpy as np\n",
    "#libreria para el manejo numerico \n",
    "import itertools\n",
    "#libreria para combinatoria"
   ]
  },
  {
   "cell_type": "markdown",
   "metadata": {},
   "source": [
    "Inicializamos el conjunto G al cual pertenecen los elementos y la tabla de Cayley de las operaciones entre los mismos, ademas de las variables en las cuales guardaremos si se cumplen las propiedades de grupo."
   ]
  },
  {
   "cell_type": "code",
   "execution_count": 137,
   "metadata": {},
   "outputs": [],
   "source": [
    "Conjunto =np.array(['e','g1','g2','g3','g4','g5']) \n",
    "#elementos de conjunto\n",
    "Matriz = np.array([\n",
    "            [ 'e','g1','g2','g3','g4','g5'],\n",
    "            ['g1', 'e','g3','g4','g5','g2'],\n",
    "            ['g2','g3', 'e','g5','g1','g4'],\n",
    "            ['g3','g4','g5', 'e','g2','g1'],\n",
    "            ['g4','g5','g1','g2', 'e','g3'],\n",
    "            ['g5','g2','g4','g1','g3','e']\n",
    "         ])\n",
    "#tabla de Cayley\n",
    "\n",
    "EsCerrada=False\n",
    "HayNeutro=False\n",
    "HayInversos=False\n",
    "EsAsociativa=False\n",
    "#variables para determinar propiedades de la tabla\n"
   ]
  },
  {
   "cell_type": "markdown",
   "metadata": {},
   "source": [
    "Esta funcion revisara si los elementos de la variable matriz en un par ordenado i,j esta dentro del conjunto G  "
   ]
  },
  {
   "cell_type": "code",
   "execution_count": 138,
   "metadata": {},
   "outputs": [],
   "source": [
    "def VerificarCerrada(Conjunto, Matriz):\n",
    "    tamMatriz = len(Matriz)\n",
    "    for i in range(tamMatriz):\n",
    "        for j in range(tamMatriz):\n",
    "            if (Matriz[i][j] not in Conjunto): # iteramos sobre cada posicion(i,j) y determinamos si tal elemento esta \n",
    "                                               # en el conjunto G\n",
    "                return False  # si no esta retornanmos false y si en todos los casos estaba retornamos true\n",
    "    return True\n"
   ]
  },
  {
   "cell_type": "markdown",
   "metadata": {},
   "source": [
    "La siguiente funcion revisa por elemento el neutro de los elementos y retorna si existe tal y el determinado neutro"
   ]
  },
  {
   "cell_type": "code",
   "execution_count": 139,
   "metadata": {},
   "outputs": [],
   "source": [
    "\n",
    "def CalcularNeutro(Conjunto,Matriz):\n",
    "\n",
    "    Neutrofila=[False,None]\n",
    "    Neutrocolumna=[False,None]\n",
    "    TamMatriz = len(Matriz)\n",
    "    MatTranspuesta = Matriz.transpose()\n",
    "    #inicializar variables\n",
    "    for i in range(TamMatriz):\n",
    "        if(np.array_equal(Matriz[i],Conjunto)): \n",
    "            Neutrofila[0]=True\n",
    "            Neutrofila[1]=Conjunto[i]\n",
    "\n",
    "        if(np.array_equal(MatTranspuesta[i],Conjunto)):\n",
    "            Neutrocolumna[0]=True    \n",
    "            Neutrocolumna[1]=Conjunto[i]\n",
    "    #busca una fila, columna que sea correspondiente al elemento neutro tal que coincidan los elementos de esos arrays con\n",
    "    #los originales si se pueda determinar que fue el identidad\n",
    "\n",
    "        if (Neutrofila[0] and Neutrocolumna[0] and (Neutrofila[1]==Neutrocolumna[1])):\n",
    "            return True, Neutrofila[1]\n",
    "        # se retorna el elemento que es neutro ademas de el bool de que si existe \n",
    "    return False, None\n",
    "    # si no exsite tal retorna false, none\n"
   ]
  },
  {
   "cell_type": "markdown",
   "metadata": {},
   "source": [
    "de acuerdo a lo retornado en \"EsCerrada\" se sigue con el algoritmo con el algoritmo con la funcion CalcularNeutro para encontrar si existe tal neutro"
   ]
  },
  {
   "cell_type": "code",
   "execution_count": 140,
   "metadata": {},
   "outputs": [],
   "source": [
    "EsCerrada = VerificarCerrada(Conjunto, Matriz)\n",
    "if (EsCerrada):\n",
    "    HayNeutro, Neutro = CalcularNeutro(Conjunto,Matriz) \n",
    "    # retorna el bool si hubo neutro y cual fue el neutro si retorna la funcion"
   ]
  },
  {
   "cell_type": "markdown",
   "metadata": {},
   "source": [
    "la siguiente funcion \"BuscarInverso\" revisamos si el elemento determinado tiene inversa y retorna si hubo existencia de tal inverso"
   ]
  },
  {
   "cell_type": "code",
   "execution_count": 141,
   "metadata": {},
   "outputs": [],
   "source": [
    "def BuscarInverso(NumElemento,Conjunto,Matriz,Neutro):\n",
    "    MatTranspuesta = Matriz.transpose()\n",
    "    InversoFila=None\n",
    "    InversoColumna=None\n",
    "    if (Neutro in Matriz[NumElemento]): \n",
    "        InversoFila=Conjunto[np.where(Matriz[NumElemento]==Neutro)]\n",
    "        #se busca en la columna donde se va a buscar ya con el neutro en cuenta\n",
    "    if (InversoFila):\n",
    "        if (Neutro in MatTranspuesta[NumElemento]): \n",
    "            InversoColumna=Conjunto[np.where(MatTranspuesta[NumElemento]==Neutro)]\n",
    "        if(InversoFila==InversoColumna):\n",
    "            return True\n",
    "        # se decice si efectivamente existe tal elemento en esa fila que por tanto sea correspondiente al valor de inversa\n",
    "    return False"
   ]
  },
  {
   "cell_type": "markdown",
   "metadata": {},
   "source": [
    "la siguiente funcion \"VerificarInversos\" revisa cada elemento del conjunto y busca si tiene inversa individualmente"
   ]
  },
  {
   "cell_type": "code",
   "execution_count": 142,
   "metadata": {},
   "outputs": [],
   "source": [
    "def VerificarInversos(Conjunto,Matriz,Neutro):\n",
    "    for numelemento in range(len(Conjunto)):\n",
    "        if (not BuscarInverso(numelemento,Conjunto,Matriz,Neutro)):\n",
    "            return False #si no encuentra el inverso entonces retornar false y si encuentra a todos retornar true \n",
    "    return True"
   ]
  },
  {
   "cell_type": "markdown",
   "metadata": {},
   "source": [
    "en la siguiente bloque a partir de la variable \"HayNeutro\" seguimos con la funcion \"VerificarInversos\" en la cual \"HayInversos\" se guarda si se cumple la existencia de los inversos para cada elemento  "
   ]
  },
  {
   "cell_type": "code",
   "execution_count": 143,
   "metadata": {},
   "outputs": [],
   "source": [
    "if (HayNeutro):\n",
    "    HayInversos=VerificarInversos(Conjunto,Matriz,Neutro) #se guarda el bool de la verificacion de inversos "
   ]
  },
  {
   "cell_type": "markdown",
   "metadata": {},
   "source": [
    "la siguiente funcion itera sobre las diferentes combinaciones posibles y revisa que el resultado cumpla la asociativadad"
   ]
  },
  {
   "cell_type": "code",
   "execution_count": 144,
   "metadata": {},
   "outputs": [],
   "source": [
    "def IsAsociative(Conjunto,Matriz):\n",
    "    n = len(Conjunto)\n",
    "    lista=[]\n",
    "    for i in range(n):\n",
    "      lista.append(i)\n",
    "    result = []\n",
    "    for i in range(n-2):\n",
    "        for j in range(i+1, n-1):   \n",
    "            for k in range(j+1, n):\n",
    "                result.append([lista[i], lista[j], lista[k]])# iteramos sobre cada trio de conjunto G\n",
    "    \n",
    "    ban=True\n",
    "    posibilidades=result\n",
    "    for i in range(len(posibilidades)):\n",
    "      resultado1=np.where(Conjunto==Matriz[posibilidades[i][1]][posibilidades[i][2]])[0][0]\n",
    "      resultado2=np.where(Conjunto==Matriz[posibilidades[i][0]][posibilidades[i][1]])[0][0]\n",
    "      #accedemos al resultado de la operacion para cada lado de la ecuacioj\n",
    "      if(Matriz[(posibilidades[i][0])][resultado1]!=Matriz[resultado2][(posibilidades[i][2])]):\n",
    "        ban=False\n",
    "        i=len(posibilidades)-1\n",
    "        #se revisa si son asociativas los trios que se van armando y se retorna si fue o no asociativa\n",
    "        \n",
    "    return ban"
   ]
  },
  {
   "cell_type": "markdown",
   "metadata": {},
   "source": [
    "en esta seccion de acuerdo a la variable \"HayInversos\" se sigue con el algoritmo de asociatividad"
   ]
  },
  {
   "cell_type": "code",
   "execution_count": 145,
   "metadata": {},
   "outputs": [],
   "source": [
    "if (HayInversos):\n",
    "   EsAsociativa = IsAsociative(Conjunto,Matriz)# el bool de \"IsAsociative\" se guarda en \"EsAsociativa\" \n"
   ]
  },
  {
   "cell_type": "markdown",
   "metadata": {},
   "source": [
    "Aqui imprimimos de acuerdo a lo hecho en el algoritmo si se cumplio las propiedades y se indica si fue tal tabla un grupo o no"
   ]
  },
  {
   "cell_type": "code",
   "execution_count": 146,
   "metadata": {},
   "outputs": [
    {
     "name": "stdout",
     "output_type": "stream",
     "text": [
      "El conjunto mas la operacion definida por la tabla de Cayley ingresadas NO son un grupo.\n"
     ]
    }
   ],
   "source": [
    "if (EsCerrada and HayNeutro and HayInversos and EsAsociativa):\n",
    "    print(\"El conjunto mas la operacion definida por la tabla de Cayley ingresadas son un grupo, y un cuadrado latino.\")\n",
    "else:\n",
    "    print(\"El conjunto mas la operacion definida por la tabla de Cayley ingresadas NO son un grupo.\")\n",
    "    EsGrupo=False"
   ]
  },
  {
   "cell_type": "markdown",
   "metadata": {},
   "source": [
    "Por otra parte con la siguiente funcion se retorna si es un cuadro latino independientemente de si fue grupo o no"
   ]
  },
  {
   "cell_type": "code",
   "execution_count": 147,
   "metadata": {},
   "outputs": [],
   "source": [
    "\n",
    "def LatinSquareBool(Matriz):\n",
    "  LatinSquare=True\n",
    "  result = []\n",
    "  cuenta=0\n",
    "  #inicializacion de variables\n",
    "  for item in Matriz[0]:\n",
    "      if item not in result:\n",
    "          result.append(item)\n",
    "      else:\n",
    "        cuenta+=1 \n",
    "  #si se repite el elemento sube la cuenta en las filas y si es asi retorna el LatinSquare false \n",
    "  if cuenta>=1:\n",
    "    LatinSquare=False\n",
    "  else:\n",
    "    permutations = list(itertools.permutations(result))\n",
    "    filas=np.shape(Matriz)[0]\n",
    "    Trans=np.transpose(Matriz)\n",
    "    permutaciones= list(map(list,permutations))\n",
    "\n",
    "    for i in range(filas):\n",
    "      if Matriz[i].tolist() not in permutaciones or Trans[i].tolist() not in permutaciones:\n",
    "        #revisamos los elementos de la matriz pero invertida para mira si en el otro sentido hay repetidas    \n",
    "        LatinSquare=False\n",
    "  return LatinSquare\n"
   ]
  },
  {
   "cell_type": "markdown",
   "metadata": {},
   "source": [
    "Finalmente se le indica si fue un cuadro latino o no"
   ]
  },
  {
   "cell_type": "code",
   "execution_count": 148,
   "metadata": {},
   "outputs": [
    {
     "name": "stdout",
     "output_type": "stream",
     "text": [
      "La matriz ingresada es un cuadrado latino.\n"
     ]
    }
   ],
   "source": [
    "if(LatinSquareBool(Matriz)):\n",
    "    print(\"La matriz ingresada es un cuadrado latino.\")\n",
    "else:\n",
    "  print(\"La matriz ingresada no es un cuadrado latino.\")"
   ]
  },
  {
   "cell_type": "markdown",
   "metadata": {},
   "source": [
    "Bibliografía\n",
    "\n",
    "https://marcelgoh.ca/2018/10/06/cayley-tables.html\n",
    "\n",
    "Clifford, Alfred Hoblitzelle; Preston, Gordon Bamford (1961). The algebraic theory of semigroups. Vol. I. Mathematical Surveys, No. 7. Providence, R.I.: American Mathematical Society. ISBN 978-0-8218-0272-4. MR 0132791. (pp. 7–9)\n",
    "\n",
    "https://gist.github.com/jfinkels/c33681e7f7b54421ea02"
   ]
  }
 ],
 "metadata": {
  "kernelspec": {
   "display_name": "Python 3.11.0 64-bit",
   "language": "python",
   "name": "python3"
  },
  "language_info": {
   "codemirror_mode": {
    "name": "ipython",
    "version": 3
   },
   "file_extension": ".py",
   "mimetype": "text/x-python",
   "name": "python",
   "nbconvert_exporter": "python",
   "pygments_lexer": "ipython3",
   "version": "3.11.0"
  },
  "orig_nbformat": 4,
  "vscode": {
   "interpreter": {
    "hash": "9ac58d8e4e3ed052ae2ce17a90878fe6a71f07128d7f7625fa078bbe5e63e038"
   }
  }
 },
 "nbformat": 4,
 "nbformat_minor": 2
}
