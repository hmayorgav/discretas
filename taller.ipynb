{
  "nbformat": 4,
  "nbformat_minor": 0,
  "metadata": {
    "colab": {
      "provenance": [],
      "authorship_tag": "ABX9TyP58nbANeNWyPt8dUNPnMhQ",
      "include_colab_link": true
    },
    "kernelspec": {
      "name": "python3",
      "display_name": "Python 3"
    },
    "language_info": {
      "name": "python"
    }
  },
  "cells": [
    {
      "cell_type": "markdown",
      "metadata": {
        "id": "view-in-github",
        "colab_type": "text"
      },
      "source": [
        "<a href=\"https://colab.research.google.com/github/hmayorgav/discretas/blob/main/taller.ipynb\" target=\"_parent\"><img src=\"https://colab.research.google.com/assets/colab-badge.svg\" alt=\"Open In Colab\"/></a>"
      ]
    },
    {
      "cell_type": "markdown",
      "source": [
        "## **Taller - teoría de números - HAIDER ANDRES MAYORGA**"
      ],
      "metadata": {
        "id": "u11v-0vLer4e"
      }
    },
    {
      "cell_type": "markdown",
      "source": [
        "**Matemáticas Discretas 2: 2023-1**\n"
      ],
      "metadata": {
        "id": "5XWys-nRTGlg"
      }
    },
    {
      "cell_type": "markdown",
      "source": [
        "**Universidad Nacional De Colombia**"
      ],
      "metadata": {
        "id": "RnuBc8RSTYgT"
      }
    },
    {
      "cell_type": "markdown",
      "source": [
        "### **1. ¿Existen enteros $a$ y $b$ tal que $a + b = 544$ y cuyo máximo común divisor es 11?.**"
      ],
      "metadata": {
        "id": "GSVXe9OUeuCI"
      }
    },
    {
      "cell_type": "markdown",
      "source": [
        "Para comprobar la existencia de tal enunciado, es necesario conocer un numero a que sean multiplos de 11, con ello revisar un numero b que tambien sean divisibles por 11 pero tiene que ser resultante de 544-11*a=b, con ello evaluamos el mcd con ayuda del algoritmo de euclides"
      ],
      "metadata": {
        "id": "F0p-lczmg1_o"
      }
    },
    {
      "cell_type": "code",
      "source": [
        "def mcd(a, b):\n",
        "    if b==0:\n",
        "        return a\n",
        "    return mcd(b,a%b)\n",
        "for a in range(0,544,11):\n",
        "  b=544-a\n",
        "  if(mcd(a,b)==11):\n",
        "     print(a,b) \n"
      ],
      "metadata": {
        "id": "O2LFGNvghl31"
      },
      "execution_count": null,
      "outputs": []
    },
    {
      "cell_type": "markdown",
      "source": [
        "Como es posible observar no existe dos numeros a,b que se cumpla 544 ≡ a+b (mod 11)  "
      ],
      "metadata": {
        "id": "Bfh5FD-wkmuY"
      }
    },
    {
      "cell_type": "markdown",
      "source": [
        "### **2. Encuentre una regla de divisibilidad para 8 y para 16.**"
      ],
      "metadata": {
        "id": "khOFrJy_lfOS"
      }
    },
    {
      "cell_type": "markdown",
      "source": [
        "Regla de divisibilidad del 8\n",
        "-tomar las ultimas 3 cifras, Si estas son divisibles entre 8, entonces son divisibles entre 8\n",
        "\n",
        "Regla de divisibilidad del 16\n",
        "-tomar ultimas 4 cifras, si estas son divisibles entre 16, entonces son divibles entre 16\n",
        "\n"
      ],
      "metadata": {
        "id": "oYEH9yO7zIgE"
      }
    },
    {
      "cell_type": "markdown",
      "source": [
        "### **3. Si $p$ es un número primo y $a^2 \\equiv b^2 (\\mod p)$, pruebe que $a \\equiv \\pm b$.**\n"
      ],
      "metadata": {
        "id": "AfkUnFWvLSHc"
      }
    },
    {
      "cell_type": "markdown",
      "source": [
        "Inicialmente tenemos que $$a^2 \\equiv b^2 (\\mod p) \\implies (a−b)(a+b)≡0(mod \\ p)$$entonces puede ser expresado como $p|(a-b)(a+b)$, pero si P es primo por el lema de euclides que menciona que si $$n|ab,mcd(n,a)=1 \\implies n|b $$ que por tanto  $p|a+b $ y $p|a-b $ que puede re-escrito como $a \\equiv b (\\mod p)$ y $a \\equiv -b (\\mod p)$\n",
        "\n",
        "\n",
        "\n",
        "\n",
        "\n",
        "\n",
        "\n",
        "\n",
        "\n",
        "\n",
        "\n",
        "\n",
        "\n",
        "\n",
        "\n"
      ],
      "metadata": {
        "id": "iRsftq9PLThi"
      }
    },
    {
      "cell_type": "markdown",
      "source": [
        "### **4. Encuentre el resto cuando $19^{19}$ es dividido por 5.**"
      ],
      "metadata": {
        "id": "6jxClt52LU3E"
      }
    },
    {
      "cell_type": "markdown",
      "source": [
        "partiendo de $$Si \\ a \\ y \\ n \\ son \\ enteros  \\ primos \\ relativos, \\ entonces \n",
        " \\ a^{φ(n)} ≡ 1 (mod \\ n)$$\n",
        "ademas de \n",
        "$$para \\ primos \\ p, φ(p)=p-1$$\n",
        "podemos dividir a $19^{19}$ como $19^{4}$*$19^{4}$*$19^{4}$*$19^{4}$*$19^{1}$\n",
        "por tanto al aplicar el teorema de euler con mod 5(numero primo) entonces el problema se reduce a  $19^{1}(mod \\ 5) \\implies 4$"
      ],
      "metadata": {
        "id": "lCSuJaTzO8DN"
      }
    },
    {
      "cell_type": "markdown",
      "source": [
        "### **5. Encuentre los últimos dos dígitos de $7^{7^{7}}$.**\n"
      ],
      "metadata": {
        "id": "-BiRYcbjR0XL"
      }
    },
    {
      "cell_type": "markdown",
      "source": [
        "partiendo de reducir el problema a $$7^{7^7} \\equiv 7^{\\alpha}(mod \\ 100)$$\n",
        "por tanto \n",
        "$$7^{7} \\equiv \\alpha(mod \\ \\phi(100))$$\n",
        "podemos por propiedades de $phi$\n",
        "$$\\phi(100)=\\phi(25)\\phi(4)$$\n",
        "$$\\phi(100)=\\phi(5^2)\\phi(2^2)$$\n",
        "$$\\phi(100)=2^1(2-1)5^1(5-1)$$\n",
        "$$\\phi(100)=40$$\n",
        "seguimos reduciendo el mod \n",
        "\n",
        "$$7^{7} \\equiv \\alpha(mod \\ \\phi(40))$$\n",
        "$$\\phi(40)=\\phi(2^3)\\phi(5)$$\n",
        "$$\\phi(40)=2^2(2-1)4$$\n",
        "$$\\phi(40)=16$$\n",
        "\n",
        "ahora que tenemos una version simplificada podemos dar solucion a \n",
        "$$7^{7} \\equiv \\alpha(mod \\ 16)$$\n",
        "$$7^{2}7^{2}7^{2}7 \\equiv \\alpha(mod \\ 16)$$\n",
        "$$1*1*1*7 \\equiv \\alpha(mod \\ 16)$$\n",
        "$$7 \\equiv \\alpha(mod \\ 16)$$\n",
        "\n",
        "volvemos a nuestro problema original \n",
        "$$7^{7} \\equiv 7^{\\alpha}(mod \\ 100)$$\n",
        "$$7^{7} \\equiv x(mod \\ 100)$$\n",
        "$$7^{3}7^{3}7^{1} \\equiv x(mod \\ 100)$$\n",
        "recordando que $7^3=343$ y que $343 mod(100)=43$\n",
        "$$43 \\ 43 \\ 7^{1} \\equiv x(mod \\ 100)$$\n",
        "recordando que $43*7=301$ y que $301 mod(100)=1$\n",
        "$$ 43*1\\equiv x(mod \\ 100)$$\n",
        "$$43\\equiv x(mod \\ 100)$$\n",
        "$$7^{7^7} (mod \\ 100)=43$$"
      ],
      "metadata": {
        "id": "1r0xjuthKtR-"
      }
    },
    {
      "cell_type": "markdown",
      "source": [
        "### **6. Encuentre $\\phi(n)$ para n=35,  n=100, n=51200.**"
      ],
      "metadata": {
        "id": "rZCO-bRkU8Ea"
      }
    },
    {
      "cell_type": "markdown",
      "source": [
        "Para este podemos hacer uso del algoritmo ya creado\n",
        "por este link \n",
        "[phy funtion code](https://github.com/hmayorgav/discretas/blob/main/13%20mar%20Jupyter%202%20comprobar%20el%20tiempo%20por%20el%20m%C3%A9todo%20tradicional%20de%20comprobar%201%20a%201%2C%20vs.%20Totient%20de%20Euler/13mar%20Totient%20de%20Euler.ipynb)\n"
      ],
      "metadata": {
        "id": "e7ZIkYfHU9Dt"
      }
    },
    {
      "cell_type": "markdown",
      "source": [
        "n=35 ϕ(n)=24\n",
        "\n",
        "n=100 ϕ(n)=40\n",
        "\n",
        "n=51200 ϕ(n)=20480\n"
      ],
      "metadata": {
        "id": "G9qefRzxV1B7"
      }
    },
    {
      "cell_type": "markdown",
      "source": [
        "### **7. Usted le pregunta a un robot que quiere comer. El responde “48.879”. Sabiendo que el robot piensa en hexadecimal pero habla el decimal, que le debería dar de comer?**"
      ],
      "metadata": {
        "id": "yCrpFwWPgHYu"
      }
    },
    {
      "cell_type": "markdown",
      "source": [
        "para resolver este problema necesitamos dividir el numero entre 16 y con el residuo volver a dividir entre 16, esto hasta que el residuo sea cero y imprima la traduccion en hexadecimal que seran los residuos en inversa, lo cual se puede realizar con el siguiente codigo"
      ],
      "metadata": {
        "id": "K52OGrolhXUR"
      }
    },
    {
      "cell_type": "code",
      "source": [
        "num= 48879\n",
        "word=\"\"\n",
        "while(True):\n",
        "  res=num%16\n",
        "  if(res<10):\n",
        "    word+=str(res)\n",
        "  elif(res==10):\n",
        "     word+=\"a\"\n",
        "  elif(res==11):\n",
        "     word+=\"b\"\n",
        "  elif(res==12):\n",
        "    word+=\"c\"\n",
        "  elif(res==13):\n",
        "    word+=\"d\"\n",
        "  elif(res==14):\n",
        "     word+=\"e\"\n",
        "  elif(res==15):\n",
        "     word+=\"f\"\n",
        "  if(num//16==0):\n",
        "    break\n",
        "  else:\n",
        "    num//=16\n",
        "print(word[::-1])"
      ],
      "metadata": {
        "colab": {
          "base_uri": "https://localhost:8080/"
        },
        "id": "R6Lq9sEOivu5",
        "outputId": "31b9a626-72dd-4a9d-f23c-18fda58f3d5b"
      },
      "execution_count": null,
      "outputs": [
        {
          "output_type": "stream",
          "name": "stdout",
          "text": [
            "beef\n"
          ]
        }
      ]
    },
    {
      "cell_type": "markdown",
      "source": [
        "### **8. ¿65.314.638.792 es divisible por 24?.**"
      ],
      "metadata": {
        "id": "r9Fn5y-psM53"
      }
    },
    {
      "cell_type": "markdown",
      "source": [
        "si es divisible entre 8 y 3 por tanto las reglas de divisibilidad\n",
        "\n",
        "para el 3 sera que la suma de sus cifras sea multiplo de 3 por tanto\n",
        "$$6+5+3+1+4+6+3+8+7+9+2 mod(3)$$\n",
        "$$54 \\  mod(3)=0$$\n",
        "para el 8 sera que sus ultimos 3 digitos juntos sean multiplo de 8, por tanto\n",
        "$$792 mod(8)=0$$\n",
        "esto se puede debido a que \n",
        "$$mcd(3,8)=1 \\ y \\ 24 \\ cumple \\ que \\ 3|24, \\ 8|24 \\implies 3\\ 8|24 $$ \n",
        "\n"
      ],
      "metadata": {
        "id": "1c3kG27JsR22"
      }
    },
    {
      "cell_type": "markdown",
      "source": [
        "### **9.Pruebe que $n^p - n$ es divisible por $p$ si $p$ es un número primo.**"
      ],
      "metadata": {
        "id": "nXWiO-rKcD-M"
      }
    },
    {
      "cell_type": "markdown",
      "source": [
        "se puede ver como un caso especial del teorema de euler.\n",
        "Si a,p son coprimos, entonces:\n",
        "$a^{\\phi(p)}  \\equiv  1 \\mod(p)$\n",
        "entonces, sabiendo que p numero es primo $ \\phi(p)=1 $ conseguimos la siguiente expresion $a^{\\phi(p)}  \\equiv  1 \\mod(p)$, por tanto al utilizar la identidad de tomando dos numeros a,b tal que  $a \\equiv b \\mod(n)$, entonces con cualquier numero c  $ac \\equiv bc \\mod(n)$, obtenemos la siguiente expresion multiplicando a a cada lado de la expresion, por tanto $a^p \\equiv a \\mod(n)$\n",
        "que se puede expresar como $a^p - a\\equiv 0 \\mod(n)$ o $p|a^p - a$ "
      ],
      "metadata": {
        "id": "LGvAMraIcNoZ"
      }
    },
    {
      "cell_type": "markdown",
      "source": [
        "###**10. Encuentre los enteros $x$ y $y$ tal que $314x+159y=1$.**###\n"
      ],
      "metadata": {
        "id": "_PuQLLaiazgj"
      }
    },
    {
      "cell_type": "markdown",
      "source": [
        "conociendo inicialmente que a traves del algoritmo de euclides se sabe que"
      ],
      "metadata": {
        "id": "2bDfPsHqc_3Z"
      }
    },
    {
      "cell_type": "code",
      "source": [
        "def mcd(a, b):\n",
        "    if b==0:\n",
        "        return a\n",
        "    return mcd(b,a%b)\n",
        "mcd(314,159)"
      ],
      "metadata": {
        "colab": {
          "base_uri": "https://localhost:8080/"
        },
        "id": "R_UUsH1pc_Hu",
        "outputId": "ffbba046-1235-4076-8af4-fc04e89b5a68"
      },
      "execution_count": 5,
      "outputs": [
        {
          "output_type": "execute_result",
          "data": {
            "text/plain": [
              "1"
            ]
          },
          "metadata": {},
          "execution_count": 5
        }
      ]
    },
    {
      "cell_type": "markdown",
      "source": [
        "podemos hacer uso de la identidad de bezout que indica,\n",
        "para todo a y b, existen un x y un y tales que\n",
        "$$ax+by=mcd(a,b)$$"
      ],
      "metadata": {
        "id": "ZPxSWm6mdb4M"
      }
    },
    {
      "cell_type": "markdown",
      "source": [
        "a continuacion la implementacion de la identidad de bezout para encontrar la solucion al problema"
      ],
      "metadata": {
        "id": "nmBvmCA9dbyM"
      }
    },
    {
      "cell_type": "code",
      "source": [
        "\n",
        "def bezout(a, b):\n",
        "    if b == 0:\n",
        "        return 1, 0, a\n",
        "    else:\n",
        "        x, y, gcd = bezout(b, a % b)\n",
        "        return y, x - (a // b) * y, gcd\n",
        "print(bezout(314,159))\n"
      ],
      "metadata": {
        "colab": {
          "base_uri": "https://localhost:8080/"
        },
        "id": "S83a-oxPazo4",
        "outputId": "3d2c4cd4-9442-4e67-86a2-01ae4401b8f3"
      },
      "execution_count": 6,
      "outputs": [
        {
          "output_type": "stream",
          "name": "stdout",
          "text": [
            "(-40, 79, 1)\n"
          ]
        }
      ]
    },
    {
      "cell_type": "markdown",
      "source": [
        "por tanto la solucion al sistema es $x=79 \\ y \\ y=-40$ "
      ],
      "metadata": {
        "id": "QJe2F58NezF5"
      }
    },
    {
      "cell_type": "markdown",
      "source": [
        "### **11. Pruebe o controvierta la siguiente afirmación si $a^2 \\equiv b^2 (\\mod m)$ entonces $a \\equiv b (\\mod m)$ o $a \\equiv -b (\\mod m)$.**"
      ],
      "metadata": {
        "id": "iEwUtImiBgNo"
      }
    },
    {
      "cell_type": "markdown",
      "source": [
        "se puede demostrar por contraejemplo el enunciado anterior, sea a=4 \\ b=16 \\ y \\ m=15\n",
        "se puede encontrar que \n",
        "$$4^2 \\equiv 16^2 (\\mod 15)$$\n",
        "$$16 \\equiv 256 (\\mod 15)$$\n",
        "que es cierto,ahora probamos la consecuencia\n",
        "$$4 \\equiv 16 (\\mod 15)$$\n",
        "o\n",
        "$$4 \\equiv -16 (\\mod 15)$$\n",
        "lo cual es falso, por tanto la afirmacion es falsa."
      ],
      "metadata": {
        "id": "_S9CsfDEBxpe"
      }
    },
    {
      "cell_type": "markdown",
      "source": [
        "### **12. Encuentre todos los enteros positivos tales que $1066 \\equiv 1776 (\\mod m)$**\n",
        "\n",
        "\n",
        "\n",
        "\n"
      ],
      "metadata": {
        "id": "-QGDNesoWTNc"
      }
    },
    {
      "cell_type": "markdown",
      "source": [
        "Para encontrar la respuesta podemos inicialmente convertir la expresion a $710 \\equiv 0 (\\mod m)$, ahora bien la pregunta se convierte en cuales son los divisores de 710, los cuales se pueden hallar con este pequeño pedazo de codigo\n",
        "\n"
      ],
      "metadata": {
        "id": "ZrtfeVFAYfY1"
      }
    },
    {
      "cell_type": "code",
      "source": [
        "import math\n",
        "def divisores(a):\n",
        "  divisores=[]\n",
        "  for i in range(1,a+1):\n",
        "    if(a%i==0):\n",
        "      divisores.append(i)\n",
        "  \n",
        "  return divisores\n",
        "print(\"los divisores son\",divisores(710))"
      ],
      "metadata": {
        "colab": {
          "base_uri": "https://localhost:8080/"
        },
        "id": "S3vERXVkZW9c",
        "outputId": "ad5c0cdf-ee0c-47dc-aff9-d27bec851c55"
      },
      "execution_count": 11,
      "outputs": [
        {
          "output_type": "stream",
          "name": "stdout",
          "text": [
            "los divisores son [1, 2, 5, 10, 71, 142, 355, 710]\n"
          ]
        }
      ]
    },
    {
      "cell_type": "markdown",
      "source": [
        "### **13. Muestre que la diferencia de dos cubos consecutivos nunca es divisible por 5.**"
      ],
      "metadata": {
        "id": "V_kqAPLtwocD"
      }
    },
    {
      "cell_type": "markdown",
      "source": [
        "Supongamos que $n$ y $n+1$ son dos números consecutivos. Queremos demostrar que la diferencia de los cubos de estos dos números, es decir, $n^3 - (n+1)^3$, no es divisible por 5.\n",
        "\n",
        "Podemos escribir $n^3 - (n+1)^3$ como:\n",
        "\n",
        "\\begin{align*}\n",
        "(n+1)^3 - (n)^3 &= n^3+3n^2+3n+1-n^3\\\\\n",
        "&= 3n(n+1)+1\\\\\n",
        "\\end{align*}\n",
        "\n",
        "Ahora,pensemos en que probando con las formas de expresar tal numero que son $5*n,5*n+1,5*n+2,5*n+3,5*n+4$, por tanto probando manualmente cada caso podemos revisar la afirmacion\n",
        "al revisar caso por caso, podemos concluir con lo siguiente\n",
        " 1. 5n\n",
        "$$-3(5n)(5n+1)-1$$\n",
        "$$u=-3(5n+1)$$\n",
        "$$5u-1$$\n",
        "osea\n",
        "$$1\\not\\equiv 0(\\mod 5)$$\n",
        " 2. 5n+1\n",
        "$$3(5n+1)(5n+2)+1$$\n",
        "$$5(3)(5n^2+2n+n)+7$$\n",
        "$$u=(3)(5n^2+2n+n)$$\n",
        "$$5u+7$$\n",
        "osea $$2\\not\\equiv 0(\\mod 5)$$\n",
        " \n",
        " 3. 5n+2\n",
        "$$3(5n+2)(5n+3)+1$$\n",
        "$$5(3)(5n^2+3n+2n)+19$$\n",
        "$$u=(3)(5n^2+3n+2n)$$\n",
        "$$5u+19$$\n",
        "osea $$4\\not\\equiv 0(\\mod 5)$$\n",
        "\n",
        " 4. 5n+3\n",
        "$$3(5n+3)(5n+4)+1$$\n",
        "$$5(3)(5n^2+4n+3n)+37$$\n",
        "$$u=(3)(5n^2+4n+3n)$$\n",
        "$$5u+37$$\n",
        "osea $$2\\not\\equiv 0(\\mod 5)$$\n",
        " 5. 5n+4\n",
        "$$3(5n+4)(5n+5)+1$$\n",
        "$$5(3)(5n^2+5n+4n)+61$$\n",
        "$$u=(3)(5n^2+5n+4n)$$\n",
        "$$5u+61$$\n",
        "osea $$1\\not\\equiv 0(\\mod 5)$$\n",
        "al ninguno ser congruente con 5, se concluye que no existe diferencia de cubos que sea congruente con 5"
      ],
      "metadata": {
        "id": "7WoG8biBGUKU"
      }
    },
    {
      "cell_type": "markdown",
      "source": [
        "### **14. Encuentre un entero positivo $n$ tal que $3^2|n$, $4^2|n+1$, $5^2|n+2$**"
      ],
      "metadata": {
        "id": "farvGr17j082"
      }
    },
    {
      "cell_type": "markdown",
      "source": [
        "el problema se puede expresar como \n",
        "$$n \\equiv 0(\\mod 3^2)$$\n",
        "$$n \\equiv -1 (\\mod 4^2)$$\n",
        "$$n \\equiv -2 (\\mod 5^2)$$\n",
        "teniendo en cuenta que entre si todos son coprimos se puede solucionar por teorema de resto chino\n",
        "$$m=9*16*25=3600$$\n",
        "$$M_1=16*25=400$$\n",
        "$$M_2=9*25=225$$\n",
        "$$M_3=9*16=144$$\n",
        "resolvemos los siguientes sistemas\n",
        "$$400x \\equiv 1 mod (3^2)$$\n",
        "$$225x \\equiv 1 mod (4^2)$$\n",
        "$$144x \\equiv 1 mod (5^2)$$\n",
        "con ayuda de la identidad de Bezout\n",
        "\n"
      ],
      "metadata": {
        "id": "KsZQ8UxEj22u"
      }
    },
    {
      "cell_type": "code",
      "source": [
        "def bezout(a, b):\n",
        "    if b == 0:\n",
        "        return 1, 0, a\n",
        "    else:\n",
        "        x, y, gcd = bezout(b, a % b)\n",
        "        return y, x - (a // b) * y, gcd\n",
        "print(\"sol primer sistema\",bezout(400,9)[0])\n",
        "print(\"sol segundo sistema\",bezout(255,9)[0])\n",
        "print(\"sol tercer sistema\",bezout(144,25)[0])"
      ],
      "metadata": {
        "colab": {
          "base_uri": "https://localhost:8080/"
        },
        "id": "Oh28i7jc54Qh",
        "outputId": "82341de3-5a20-462c-93b4-106f9b885e5e"
      },
      "execution_count": 10,
      "outputs": [
        {
          "output_type": "stream",
          "name": "stdout",
          "text": [
            "sol primer sistema -2\n",
            "sol segundo sistema 1\n",
            "sol tercer sistema 4\n"
          ]
        }
      ]
    },
    {
      "cell_type": "markdown",
      "source": [
        "ahora tenemos que \n",
        "$$n=(-1)(9*25)(1)+(-2)(16*9)(4)$$\n",
        "$$n=-1377$$\n",
        "$$-1377 \\  mod(m)$$\n",
        "$$m=3600$$\n",
        "$$-1377 \\ mod(3600)=2223$$\n"
      ],
      "metadata": {
        "id": "9TAbEaS17cjw"
      }
    },
    {
      "cell_type": "markdown",
      "source": [
        "### **15. ¿Cuál es el último digito de $7^{355}$?**"
      ],
      "metadata": {
        "id": "BLcigE4gkiOM"
      }
    },
    {
      "cell_type": "markdown",
      "source": [
        "$7^{355} (mod 10) \\equiv 7 7^{354} (mod 10) \\equiv  (7^{2})^{177} (mod 10) \\equiv  (49)^{177} (mod 10) \\equiv  \\equiv  7(-1)^{177} (mod 10) \\equiv  -7 (mod 10) \\equiv  -7 (mod 10)\\equiv  3 (mod 10) $"
      ],
      "metadata": {
        "id": "oa4A9mJ5k2FR"
      }
    },
    {
      "cell_type": "markdown",
      "source": [
        "### **16. Muestre que $3k+4$ y $4k+5$ no tienen un factor común más grande que 1**"
      ],
      "metadata": {
        "id": "KCjJRrQWVhS5"
      }
    },
    {
      "cell_type": "markdown",
      "source": [
        "Haciendo uso del algoritmo de euclides para hallar el mcd, como el siguiente\n"
      ],
      "metadata": {
        "id": "6JUYYNsHVebb"
      }
    },
    {
      "cell_type": "code",
      "source": [
        "def mcd(a, b):\n",
        "    if b==0:\n",
        "        return a\n",
        "    return mcd(b,a%b)"
      ],
      "metadata": {
        "id": "bMru35cCVsoA"
      },
      "execution_count": null,
      "outputs": []
    },
    {
      "cell_type": "markdown",
      "source": [
        "podemos encontrar que \n",
        " $$siendo \\ a= 4k+5  \\ y \\ b= 3k+4$$\n",
        "pasados como parametros tal que\n",
        " $$ a'=3k+4 \\ y \\ a \\% b=k+1$$\n",
        " ahora bien\n",
        " $$ a''=k+1 \\ y \\ a'\\%b=1 $$\n",
        "$$ a'''=1 \\ y \\ a''\\% \\ b=0$$\n",
        "como $a'''=1$ su mayor factor comun es 1"
      ],
      "metadata": {
        "id": "x9ZboWYiWBfR"
      }
    }
  ]
}