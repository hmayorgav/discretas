{
 "cells": [
  {
   "attachments": {},
   "cell_type": "markdown",
   "metadata": {},
   "source": [
    "# Algoritmo para un número como una suma de cuadrados #"
   ]
  },
  {
   "attachments": {},
   "cell_type": "markdown",
   "metadata": {},
   "source": [
    "En este algoritmo se busca usar el teorema de los cuatro cuadrados de Lagrange tal que al sumar como maximo 4 numeros al cuadrado se hallara el numero pasado a la funcion."
   ]
  },
  {
   "attachments": {},
   "cell_type": "markdown",
   "metadata": {},
   "source": [
    "## Objetivo ##"
   ]
  },
  {
   "attachments": {},
   "cell_type": "markdown",
   "metadata": {},
   "source": [
    "Recrear el teorema de los cuatro cuadrados de Lagrange tal que se busque expresar un numero x en la menor cantidad de numeros cuadrados sumados\n"
   ]
  },
  {
   "attachments": {},
   "cell_type": "markdown",
   "metadata": {},
   "source": [
    "### consideraciones iniciales ###"
   ]
  },
  {
   "attachments": {},
   "cell_type": "markdown",
   "metadata": {},
   "source": [
    "Este algoritmo esta hecho tal que revise los casos en los que se use menos cantidad de numeros y los valores posibles mas altos primeros, haciendo referencia que se evaluara el menor numero de variables y se iniciara iterando sobre el valor de la funcion piso de la raiz  de  numero a evaluar, y por tanto los minimos posibles."
   ]
  },
  {
   "attachments": {},
   "cell_type": "markdown",
   "metadata": {},
   "source": [
    "### Algoritmo ###"
   ]
  },
  {
   "cell_type": "code",
   "execution_count": 10,
   "metadata": {},
   "outputs": [
    {
     "name": "stdout",
     "output_type": "stream",
     "text": [
      "los numeros al cuadrado sumados tal que den el numero 21 son: \n",
      "4 2 1\n"
     ]
    },
    {
     "data": {
      "text/plain": [
       "0"
      ]
     },
     "execution_count": 10,
     "metadata": {},
     "output_type": "execute_result"
    }
   ],
   "source": [
    "import math\n",
    "def cuadrados(num):\n",
    "    print(\"los numeros al cuadrado sumados tal que den el numero\",num,\"son: \")\n",
    "    for i in range(math.floor(math.sqrt(num)),0,-1):\n",
    "        if(i**2==num):\n",
    "            print(i)\n",
    "            return 0\n",
    "        for j in range(math.floor(math.sqrt(num-i)),0,-1):\n",
    "            if(i**2+j**2==num):\n",
    "                print(i,j)\n",
    "                return 0\n",
    "            for k in range(math.floor(math.sqrt(num-i-j)),0,-1):\n",
    "                if(i**2+j**2+k**2==num):\n",
    "                    print(i,j,k)\n",
    "                    return 0\n",
    "                for l in range(math.floor(math.sqrt(num-i-j-k)),0,-1):\n",
    "                    if(i**2+j**2+k**2+l**2==num):\n",
    "                        print(i,j,k,l)\n",
    "                        return 0 \n",
    "\n",
    "    return 1\n",
    "cuadrados(21)"
   ]
  },
  {
   "cell_type": "code",
   "execution_count": null,
   "metadata": {},
   "outputs": [],
   "source": [
    "Inicialmente importamos la libreria \"math\" para usar funciones arismeticas"
   ]
  },
  {
   "cell_type": "code",
   "execution_count": null,
   "metadata": {},
   "outputs": [],
   "source": [
    "import math"
   ]
  },
  {
   "attachments": {},
   "cell_type": "markdown",
   "metadata": {},
   "source": [
    "la funcion recibe como para parametro el numero al cual se quiere dar en los terminos dados "
   ]
  },
  {
   "cell_type": "code",
   "execution_count": null,
   "metadata": {},
   "outputs": [],
   "source": [
    "def cuadrados(num):"
   ]
  },
  {
   "attachments": {},
   "cell_type": "markdown",
   "metadata": {},
   "source": [
    "El algoritmo cuadrados(num) busca expresar un número entero positivo num como la suma de uno, dos, tres o cuatro números enteros positivos al cuadrado.\n",
    "Para hacerlo, comienza por buscar el número mayor i tal que i^2 <= num. Si i^2 = num, el algoritmo ha encontrado una solución e imprime tal valor. De lo contrario, el algoritmo continúa buscando soluciones sumando números enteros al cuadrado de forma descendente. En inicialmente, busca el mayor número j tal que j^2 + i^2<= num, luego el mayor número k tal que k^2 + i^2 + j^2 <= num , y así sucesivamente, hasta encontrar una solución impriendo tal, hasta que se hayan probado todas las combinaciones posibles.\n",
    "Si el número num no se puede expresar como la suma de uno, dos, tres o cuatro números enteros al cuadrado(que de acuerdo al teorema no ocurre) simplemente no imprime nada.\n",
    "Si no retorna nada devuelve 1, caso contrario 0."
   ]
  },
  {
   "cell_type": "code",
   "execution_count": null,
   "metadata": {},
   "outputs": [],
   "source": [
    "print(\"los numeros al cuadrado sumados tal que den el numero\",num,\"son: \")\n",
    "for i in range(math.floor(math.sqrt(num)),0,-1):\n",
    "    if(i**2==num):\n",
    "        print(i)\n",
    "        return 0\n",
    "    for j in range(math.floor(math.sqrt(num-i)),0,-1):\n",
    "        if(i**2+j**2==num):\n",
    "            print(i,j)\n",
    "            return 0\n",
    "        for k in range(math.floor(math.sqrt(num-i-j)),0,-1):\n",
    "            if(i**2+j**2+k**2==num):\n",
    "                print(i,j,k)\n",
    "                return 0\n",
    "            for l in range(math.floor(math.sqrt(num-i-j-k)),0,-1):\n",
    "                if(i**2+j**2+k**2+l**2==num):\n",
    "                    print(i,j,k,l)\n",
    "                    return 0\n",
    "\n",
    "return 1"
   ]
  },
  {
   "attachments": {},
   "cell_type": "markdown",
   "metadata": {},
   "source": [
    "una representacion del algoritmo se veria tal que:\n",
    "\n",
    "0-1-2-3-4-5-6-7-8-9-10-11-12-13-14-15-16-17-18-19-20-21 "
   ]
  },
  {
   "attachments": {},
   "cell_type": "markdown",
   "metadata": {},
   "source": [
    "------------------4^2------------------------|-----2^2-----|1^2|"
   ]
  },
  {
   "attachments": {},
   "cell_type": "markdown",
   "metadata": {},
   "source": [
    "Bibliografía\n"
   ]
  },
  {
   "attachments": {},
   "cell_type": "markdown",
   "metadata": {},
   "source": [
    "N.A"
   ]
  }
 ],
 "metadata": {
  "kernelspec": {
   "display_name": "Python 3",
   "language": "python",
   "name": "python3"
  },
  "language_info": {
   "codemirror_mode": {
    "name": "ipython",
    "version": 3
   },
   "file_extension": ".py",
   "mimetype": "text/x-python",
   "name": "python",
   "nbconvert_exporter": "python",
   "pygments_lexer": "ipython3",
   "version": "3.10.4"
  },
  "orig_nbformat": 4
 },
 "nbformat": 4,
 "nbformat_minor": 2
}
