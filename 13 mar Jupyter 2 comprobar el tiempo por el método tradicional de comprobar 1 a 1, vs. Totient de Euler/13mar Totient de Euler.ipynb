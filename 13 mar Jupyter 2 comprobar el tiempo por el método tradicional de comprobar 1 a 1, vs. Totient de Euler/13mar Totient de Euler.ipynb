{
 "cells": [
  {
   "attachments": {},
   "cell_type": "markdown",
   "metadata": {},
   "source": [
    "# Algoritmo de la funcion EulerTotient # "
   ]
  },
  {
   "attachments": {},
   "cell_type": "markdown",
   "metadata": {},
   "source": [
    "La función phi de Euler, también conocida como la función totiente de Euler, es una función aritmética que se utiliza en teoría de números para contar el número de enteros positivos menores o iguales que un número dado n y que son coprimos con n (es decir, no tienen factores en común con n aparte del 1). Esta función se denota con el símbolo φ(n).\n"
   ]
  },
  {
   "cell_type": "markdown",
   "metadata": {},
   "source": [
    "## Objetivo ##"
   ]
  },
  {
   "attachments": {},
   "cell_type": "markdown",
   "metadata": {},
   "source": [
    "La creacion de un algoritmo con el uso de las siguientes propiedades \n",
    "1.   φ(1)=1. \n",
    "2.  Si p es primo:  φ(p^a) = (p^a) - (p^a-1).\n",
    "3. Si mcd(m,n) = 1: φ(mn) = φ(m) φ(n).\n",
    "por otra parte el algoritmo basico de fuerza bruta, para posteriormente comparar el tiempo de ejecucion."
   ]
  },
  {
   "cell_type": "markdown",
   "metadata": {},
   "source": [
    "## Planteamiento ##"
   ]
  },
  {
   "cell_type": "markdown",
   "metadata": {},
   "source": [
    "### consideraciones iniciales ###"
   ]
  },
  {
   "attachments": {},
   "cell_type": "markdown",
   "metadata": {},
   "source": [
    "se hace necesario de una funcion que pueda encontrar si un numero dado es primo y una que pueda descomponer el numero en sus factores primos como veremos a continuacion"
   ]
  },
  {
   "cell_type": "markdown",
   "metadata": {},
   "source": [
    "### Algoritmo ###"
   ]
  },
  {
   "attachments": {},
   "cell_type": "markdown",
   "metadata": {},
   "source": [
    "Importamos las librerias \"math\" que nos ayudara para algunas operaciones arismeticas que no tiene python nativamente y \"time\" para medir los tiempos"
   ]
  },
  {
   "cell_type": "code",
   "execution_count": 16,
   "metadata": {},
   "outputs": [],
   "source": [
    "import math       \n",
    "import time         "
   ]
  },
  {
   "attachments": {},
   "cell_type": "markdown",
   "metadata": {},
   "source": [
    "Declaramos una funcion para identificar numeros primos que revisa los casos especificos y con la ayuda de un truco matematico que hara mas rapido la determinacion de la naturaleza del numero dado, por otra parte hacemos una funcion para que busque los numeros que descomponen en factores primos tal numero, para ello determinamos si es primo en primer lugar, ya si no lo es seguimos en un bucle sacando los factores con ayuda del modulo con tal que retorne tales valores al finalizar la funcion"
   ]
  },
  {
   "cell_type": "code",
   "execution_count": 17,
   "metadata": {},
   "outputs": [],
   "source": [
    "def bool_primo(numero):\n",
    "   if (numero <= 1): return False\n",
    "   elif (numero <= 3): return True\n",
    "   elif(numero % 2 == 0 or numero % 3 == 0): return False\n",
    "   i = 5\n",
    "   while i * i <= numero:\n",
    "      if (numero % i == 0 or numero % (i + 2) == 0):\n",
    "         return False\n",
    "      i += 6\n",
    "   return True\n",
    "\n",
    "def factorizar_primos(num):\n",
    "    if bool_primo(num):\n",
    "        return [num]\n",
    "    fac = []\n",
    "    i = 2  \n",
    "    while i <= math.sqrt(num):  \n",
    "        if num % i == 0:  \n",
    "            fac.append(i) \n",
    "            num //= i \n",
    "        else:i += 1  \n",
    "\n",
    "    if (num > 1):  fac.append(num)  \n",
    "\n",
    "    return fac  "
   ]
  },
  {
   "attachments": {},
   "cell_type": "markdown",
   "metadata": {},
   "source": [
    "Aqui ya con ayuda del lema podemos hacer lo siguiente, inicialmente si es 1, se retorna 1, si es primo el valor se retorna n-1 puesto que los valores que un primo^1 por tanto primo^1-primo^0 es primo-1,ya finalmente hacemos uso de mcd(m,n) = 1: φ(mn) = φ(m) φ(n), como los valores que encontramos todos son numeros primos podemos aprovechar para usar la segunda propiedad y comenzar a descomponer el numero original en casos pequeños en donde como todos son primos con diferentes potencias se usa la propiedad mencionada y sale como un producto de tales numeros."
   ]
  },
  {
   "cell_type": "code",
   "execution_count": 18,
   "metadata": {},
   "outputs": [],
   "source": [
    "def euler_totient_lema(n):\n",
    "    if (n == 1):\n",
    "        # φ(1)=1.\n",
    "        return n\n",
    "    elif (bool_primo(n)):\n",
    "        print(\"numero primo\")\n",
    "        # Si p es primo:  φ(p^a) = (p^a) - (p^a-1).\n",
    "        return n - 1\n",
    "    else:\n",
    "        #Si mcd(m,n) = 1: φ(mn) = φ(m) φ(n).\n",
    "        numero_generadores = 1\n",
    "        factores_primos = factorizar_primos(n)\n",
    "        set_f_p = set(factores_primos)\n",
    "        set_f_p = list(set_f_p)\n",
    "        for primo in range (0,len(set_f_p)):\n",
    "            potencia = factores_primos.count(set_f_p[primo])\n",
    "            numero_generadores *= (pow(set_f_p[primo], potencia)-pow(set_f_p[primo], potencia-1))\n",
    "        return numero_generadores\n"
   ]
  },
  {
   "attachments": {},
   "cell_type": "markdown",
   "metadata": {},
   "source": [
    "La manera por fuerza bruta, inicialmente una funcion para halla el maximo comun divisor, gracias al algoritmo de euclides podemos hallarlo, por otro lado para φ(n) se itera de 1 a n mirando si mcd(n,i)==1 sumando uno al valor que retornara la funcion."
   ]
  },
  {
   "cell_type": "code",
   "execution_count": 19,
   "metadata": {},
   "outputs": [],
   "source": [
    "def mcd(x, y):\n",
    "    if (y == 0): return x\n",
    "    else: return mcd(y, x%y)\n",
    "\n",
    "def generadores_fb(n):\n",
    "    generadoresFB=0\n",
    "    for i in range(1,n):\n",
    "        if mcd(n,i)==1:\n",
    "            generadoresFB+=1\n",
    "    return generadoresFB"
   ]
  },
  {
   "attachments": {},
   "cell_type": "markdown",
   "metadata": {},
   "source": [
    "finalmente la comparacion entre los dos formas de hallar el valor de la funcion EulerTotient para un n especifico"
   ]
  },
  {
   "cell_type": "code",
   "execution_count": 20,
   "metadata": {},
   "outputs": [
    {
     "name": "stdout",
     "output_type": "stream",
     "text": [
      "|G| =  10\n",
      "Euler Totient:  4\n",
      "Tiempo: 0.0\n",
      "\n",
      "Fuerza Bruta:  4\n",
      "Tiempo:  0.0\n"
     ]
    }
   ],
   "source": [
    "def main():\n",
    "    n =  int(input(\"Ingrese el entero a calcular el EulerTotient\"))\n",
    "    print(\"|G| = \",n)\n",
    "    # Euler Totient\n",
    "    start = time.time()\n",
    "    print(\"Euler Totient: \",(euler_totient_lema(n)))\n",
    "    end = time.time()\n",
    "    print(\"Tiempo: \"+ str(end - start) + \"\\n\")\n",
    "\n",
    "    \n",
    "    # Fuerza Bruta\n",
    "    start = time.time()\n",
    "    print(\"Fuerza Bruta: \",generadores_fb(n))\n",
    "    end = time.time()\n",
    "    print(\"Tiempo: \",end - start)\n",
    "    \n",
    "    \n",
    "main()\n"
   ]
  },
  {
   "attachments": {},
   "cell_type": "markdown",
   "metadata": {},
   "source": [
    "Bibliografía\n",
    "\n",
    "Wikipedia contributors. (2021, April 6). Euler's totient function. In Wikipedia, The Free Encyclopedia. Retrieved 20:13, May 1, 2023, from https://en.wikipedia.org/wiki/Euler%27s_totient_function"
   ]
  }
 ],
 "metadata": {
  "kernelspec": {
   "display_name": "Python 3.11.0 64-bit",
   "language": "python",
   "name": "python3"
  },
  "language_info": {
   "codemirror_mode": {
    "name": "ipython",
    "version": 3
   },
   "file_extension": ".py",
   "mimetype": "text/x-python",
   "name": "python",
   "nbconvert_exporter": "python",
   "pygments_lexer": "ipython3",
   "version": "3.10.4"
  },
  "orig_nbformat": 4,
  "vscode": {
   "interpreter": {
    "hash": "9ac58d8e4e3ed052ae2ce17a90878fe6a71f07128d7f7625fa078bbe5e63e038"
   }
  }
 },
 "nbformat": 4,
 "nbformat_minor": 2
}
