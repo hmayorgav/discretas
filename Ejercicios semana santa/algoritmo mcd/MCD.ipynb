{
 "cells": [
  {
   "attachments": {},
   "cell_type": "markdown",
   "metadata": {},
   "source": [
    "este algoritmo se puede tratar de manera recursiva de la siguiente manera, cuando el resto sea igual a cero se va a retornar tal valor despues de x iteraciones sobre a y b"
   ]
  },
  {
   "cell_type": "code",
   "execution_count": null,
   "metadata": {},
   "outputs": [],
   "source": [
    "def mcd(a, b):\n",
    "    if b == 0: \n",
    "        return b\n",
    "    else:\n",
    "        return mcd(b, a%b)"
   ]
  }
 ],
 "metadata": {
  "language_info": {
   "name": "python"
  },
  "orig_nbformat": 4
 },
 "nbformat": 4,
 "nbformat_minor": 2
}
